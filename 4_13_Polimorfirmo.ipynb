{
  "cells": [
    {
      "cell_type": "markdown",
      "metadata": {
        "id": "view-in-github",
        "colab_type": "text"
      },
      "source": [
        "<a href=\"https://colab.research.google.com/github/nesbenuy/programacion1/blob/main/4_13_Polimorfirmo.ipynb\" target=\"_parent\"><img src=\"https://colab.research.google.com/assets/colab-badge.svg\" alt=\"Open In Colab\"/></a>"
      ]
    },
    {
      "cell_type": "markdown",
      "metadata": {
        "id": "tiNu2uF-K0MH"
      },
      "source": [
        "# Polimorfismo\n",
        "\n",
        "El polimorfismo es otro concepto fundamental en la Programación Orientada a Objetos que permite que un objeto pueda adoptar múltiples formas. En el contexto de la herencia, el polimorfismo permite que un objeto de la subclase pueda ser tratado como un objeto de la clase base, lo que facilita la escritura de código más genérico y reutilizable.\n",
        "\n",
        "## Ejemplo de Polimorfismo en la biblioteca\n",
        "\n",
        "Vamos a ver cómo podemos aplicar el polimorfismo en nuestro ejemplo de la biblioteca. Supongamos que queremos tener una función que imprima la información de cualquier autor, sin importar si es un Autor, un Escritor, un EscritorAcademico, etc."
      ]
    },
    {
      "cell_type": "code",
      "execution_count": null,
      "metadata": {
        "id": "nGcnWxnaK0MJ"
      },
      "outputs": [],
      "source": [
        "def imprimir_informacion_autor(autor):\n",
        "    print(\"Nombre:\", autor.nombre)\n",
        "    if isinstance(autor, Escritor):\n",
        "        print(\"Género Literario:\", autor.genero)\n",
        "    if isinstance(autor, Academico):\n",
        "        print(\"Universidad:\", autor.universidad)"
      ]
    },
    {
      "cell_type": "markdown",
      "metadata": {
        "id": "B3POwn9oK0ML"
      },
      "source": [
        "Ahora, podemos pasar cualquier objeto de una clase que herede de Autor a esta función, y se imprimirá la información correspondiente:"
      ]
    },
    {
      "cell_type": "code",
      "execution_count": null,
      "metadata": {
        "id": "KVz0zONbK0ML"
      },
      "outputs": [],
      "source": [
        "autor = Autor(\"Julio Cortázar\")\n",
        "escritor_academico = EscritorAcademico(\"Umberto Eco\", \"Novela Histórica\", \"Universidad de Bolonia\")\n",
        "\n",
        "imprimir_informacion_autor(autor)\n",
        "imprimir_informacion_autor(escritor_academico)"
      ]
    },
    {
      "cell_type": "markdown",
      "metadata": {
        "id": "RKGtHPeMK0MM"
      },
      "source": [
        "## Sobrescritura de métodos\n",
        "\n",
        "El polimorfismo también nos permite sobrescribir métodos en las subclases. Por ejemplo, podríamos tener un método informacion() en la clase Autor y sobrescribirlo en las subclases para que devuelva información adicional:"
      ]
    },
    {
      "cell_type": "code",
      "execution_count": null,
      "metadata": {
        "id": "riZ8yPHVK0MM"
      },
      "outputs": [],
      "source": [
        "class Autor:\n",
        "    def __init__(self, nombre):\n",
        "        self.nombre = nombre\n",
        "\n",
        "    def informacion(self):\n",
        "        return f\"Nombre: {self.nombre}\"\n",
        "\n",
        "class Escritor(Autor):\n",
        "    def __init__(self, nombre, genero):\n",
        "        super().__init__(nombre)\n",
        "        self.genero = genero\n",
        "\n",
        "    def informacion(self):\n",
        "        return f\"{super().informacion()} - Género Literario: {self.genero}\"\n",
        "\n",
        "# Instanciamos un objeto de la clase Escritor para Mario Benedetti\n",
        "escritor = Escritor(\"Mario Benedetti\", \"Realismo Social\")\n",
        "print(escritor.informacion())"
      ]
    },
    {
      "cell_type": "markdown",
      "metadata": {
        "id": "APxowGQlK0MN"
      },
      "source": [
        "El polimorfismo, junto con la herencia, nos permite escribir código más flexible y reutilizable, al permitirnos tratar objetos de subclases como si fueran objetos de la clase base y sobrescribir métodos para añadir funcionalidades específicas a las subclases."
      ]
    },
    {
      "cell_type": "markdown",
      "metadata": {
        "id": "NMVxal2dK0MN"
      },
      "source": [
        "## Ejemplos adicionales de Polimorfismo\n",
        "### Polimorfismo con métodos de clase"
      ]
    },
    {
      "cell_type": "code",
      "execution_count": null,
      "metadata": {
        "id": "csWFiL_YK0MO",
        "outputId": "62931f83-c049-497d-d707-0e6dacde2211"
      },
      "outputs": [
        {
          "name": "stdout",
          "output_type": "stream",
          "text": [
            "Guau Guau\n",
            "Miau Miau\n",
            "Prr Prr\n",
            "Algunos animales hacen sonidos\n"
          ]
        }
      ],
      "source": [
        "class Animal:\n",
        "    def sonido(self):\n",
        "        return \"Algunos animales hacen sonidos\"\n",
        "\n",
        "class Perro(Animal):\n",
        "    def sonido(self):\n",
        "        return \"Guau Guau\"\n",
        "\n",
        "class Gato(Animal):\n",
        "    def sonido(self):\n",
        "        return \"Miau Miau\"\n",
        "\n",
        "class Loro(Animal):\n",
        "    def sonido(self):\n",
        "        return \"Prr Prr\"\n",
        "\n",
        "animales = [Perro(), Gato(), Loro(), Animal()]\n",
        "\n",
        "for animal in animales:\n",
        "    print(animal.sonido())"
      ]
    },
    {
      "cell_type": "markdown",
      "metadata": {
        "id": "Du-W13BZK0MO"
      },
      "source": [
        "## Desafíos\n",
        "\n",
        "### Desafío 62:\n",
        "Crea una clase Musico que tenga un método instrumento y crea dos subclases Guitarrista y Baterista que sobrescriban el método instrumento. Instancia objetos de estas clases y demuestra el polimorfismo.\n",
        "\n",
        "### Desafío 63:\n",
        "Añade un método biografia a la clase Autor y sobrescríbelo en la clase Escritor. Instancia un objeto de la clase Escritor y muestra cómo se puede acceder al método biografia de ambas clases.\n",
        "\n",
        "### Desafío 64:\n",
        "En este desafío, vamos a extender la clase Libro para crear una subclase `LibroEspecializado`. Un `LibroEspecializado`, además de tener un título y un autor, también tiene un campo de estudio y un nivel de especialización (básico, intermedio, avanzado).\n",
        "\n",
        "### Desafío 65: Polimorfismo en figuras geométricas\n",
        "En este desafío, se te pide que implementes el polimorfismo con métodos de clase en figuras geométricas. Deberás crear una clase base Figura con un método area y dos subclases Circulo y Cuadrado que sobrescriban este método para calcular el área de cada figura.\n",
        "\n",
        "### Desafío 66: Polimorfismo en operaciones matemáticas\n",
        "En este desafío, aplicarás el polimorfismo para realizar diferentes operaciones matemáticas. Deberás crear una clase base Operacion con un método resultado y dos subclases Suma y Multiplicacion que sobrescriban este método para realizar las operaciones correspondientes."
      ]
    },
    {
      "cell_type": "markdown",
      "source": [
        "Desafío 62"
      ],
      "metadata": {
        "id": "YubRbn0eLJUg"
      }
    },
    {
      "cell_type": "code",
      "source": [
        "# Clase base\n",
        "class Musico:\n",
        "    def instrumento(self):\n",
        "        return \"Un músico toca algún instrumento.\"\n",
        "\n",
        "# Subclase que sobrescribe el método\n",
        "class Guitarrista(Musico):\n",
        "    def instrumento(self):\n",
        "        return \"El guitarrista toca la guitarra.\"\n",
        "\n",
        "# Otra subclase que sobrescribe el método\n",
        "class Baterista(Musico):\n",
        "    def instrumento(self):\n",
        "        return \"El baterista toca la batería.\"\n",
        "\n",
        "# Demostración del polimorfismo\n",
        "def mostrar_instrumento(musico):\n",
        "    print(musico.instrumento())\n",
        "\n",
        "# Crear instancias\n",
        "m1 = Musico()\n",
        "m2 = Guitarrista()\n",
        "m3 = Baterista()\n",
        "\n",
        "# Llamada polimórfica: mismo método, distinto comportamiento\n",
        "mostrar_instrumento(m1)\n",
        "mostrar_instrumento(m2)\n",
        "mostrar_instrumento(m3)\n"
      ],
      "metadata": {
        "colab": {
          "base_uri": "https://localhost:8080/"
        },
        "id": "ZlLdgQUSLLSo",
        "outputId": "be1b82f0-4887-41ab-b460-053878b2a3ae"
      },
      "execution_count": 1,
      "outputs": [
        {
          "output_type": "stream",
          "name": "stdout",
          "text": [
            "Un músico toca algún instrumento.\n",
            "El guitarrista toca la guitarra.\n",
            "El baterista toca la batería.\n"
          ]
        }
      ]
    },
    {
      "cell_type": "markdown",
      "source": [
        "Desafío 63"
      ],
      "metadata": {
        "id": "xUMTJCfDLaZn"
      }
    },
    {
      "cell_type": "code",
      "source": [
        "# Clase base\n",
        "class Autor:\n",
        "    def biografia(self):\n",
        "        return \"El autor es una persona que crea obras literarias.\"\n",
        "\n",
        "# Subclase que sobrescribe el método\n",
        "class Escritor(Autor):\n",
        "    def biografia(self):\n",
        "        return \"El escritor plasma sus ideas en palabras y da vida a sus historias.\"\n",
        "\n",
        "# Instanciamos un objeto de la clase Escritor\n",
        "e1 = Escritor()\n",
        "\n",
        "# Accedemos al método sobrescrito (versión de Escritor)\n",
        "print(\"Biografía (Escritor):\", e1.biografia())\n",
        "\n",
        "# Accedemos al método original de la clase Autor con super()\n",
        "print(\"Biografía (Autor):\", super(Escritor, e1).biografia())\n"
      ],
      "metadata": {
        "colab": {
          "base_uri": "https://localhost:8080/"
        },
        "id": "F9cMMHxALYxX",
        "outputId": "caaf5e47-c199-474a-fc30-37ac36241663"
      },
      "execution_count": 2,
      "outputs": [
        {
          "output_type": "stream",
          "name": "stdout",
          "text": [
            "Biografía (Escritor): El escritor plasma sus ideas en palabras y da vida a sus historias.\n",
            "Biografía (Autor): El autor es una persona que crea obras literarias.\n"
          ]
        }
      ]
    },
    {
      "cell_type": "markdown",
      "source": [
        "Desafío 64"
      ],
      "metadata": {
        "id": "3VKc3teHLycq"
      }
    },
    {
      "cell_type": "code",
      "source": [
        "# Clase base\n",
        "class Libro:\n",
        "    def __init__(self, titulo, autor):\n",
        "        self.titulo = titulo\n",
        "        self.autor = autor\n",
        "\n",
        "    def mostrar_info(self):\n",
        "        return f\"Título: {self.titulo} | Autor: {self.autor}\"\n",
        "\n",
        "# Subclase que extiende la clase Libro\n",
        "class LibroEspecializado(Libro):\n",
        "    def __init__(self, titulo, autor, campo_estudio, nivel):\n",
        "        # Llamamos al constructor de la clase base\n",
        "        super().__init__(titulo, autor)\n",
        "        self.campo_estudio = campo_estudio\n",
        "        self.nivel = nivel\n",
        "\n",
        "    # Sobrescribimos el método para agregar más información\n",
        "    def mostrar_info(self):\n",
        "        info_base = super().mostrar_info()\n",
        "        return f\"{info_base} | Campo: {self.campo_estudio} | Nivel: {self.nivel}\"\n",
        "\n",
        "# Ejemplo de uso\n",
        "libro1 = Libro(\"El Principito\", \"Antoine de Saint-Exupéry\")\n",
        "libro2 = LibroEspecializado(\"Introducción a la Programación\", \"Néstor Bentaberry\", \"Informática\", \"Básico\")\n",
        "\n",
        "print(libro1.mostrar_info())\n",
        "print(libro2.mostrar_info())\n"
      ],
      "metadata": {
        "colab": {
          "base_uri": "https://localhost:8080/"
        },
        "id": "9lvfoF2QL0BU",
        "outputId": "295dd784-1151-4f81-abd2-caa72bbba68d"
      },
      "execution_count": 3,
      "outputs": [
        {
          "output_type": "stream",
          "name": "stdout",
          "text": [
            "Título: El Principito | Autor: Antoine de Saint-Exupéry\n",
            "Título: Introducción a la Programación | Autor: Néstor Bentaberry | Campo: Informática | Nivel: Básico\n"
          ]
        }
      ]
    },
    {
      "cell_type": "markdown",
      "metadata": {
        "id": "uhSwjU1-K0MP"
      },
      "source": [
        "## Referencias\n",
        "\n",
        "- [Polimorfismo en Python - W3Schools](https://www.w3schools.com/python/python_polymorphism.asp)\n",
        "- [Python Polymorphism - Programiz](https://www.programiz.com/python-programming/polymorphism)\n"
      ]
    }
  ],
  "metadata": {
    "kernelspec": {
      "display_name": "Python 3",
      "language": "python",
      "name": "python3"
    },
    "language_info": {
      "codemirror_mode": {
        "name": "ipython",
        "version": 3
      },
      "file_extension": ".py",
      "mimetype": "text/x-python",
      "name": "python",
      "nbconvert_exporter": "python",
      "pygments_lexer": "ipython3",
      "version": "3.12.2"
    },
    "orig_nbformat": 4,
    "colab": {
      "provenance": [],
      "include_colab_link": true
    }
  },
  "nbformat": 4,
  "nbformat_minor": 0
}