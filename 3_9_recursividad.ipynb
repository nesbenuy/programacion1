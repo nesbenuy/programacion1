{
  "cells": [
    {
      "cell_type": "markdown",
      "metadata": {
        "id": "view-in-github",
        "colab_type": "text"
      },
      "source": [
        "<a href=\"https://colab.research.google.com/github/nesbenuy/programacion1/blob/main/3_9_recursividad.ipynb\" target=\"_parent\"><img src=\"https://colab.research.google.com/assets/colab-badge.svg\" alt=\"Open In Colab\"/></a>"
      ]
    },
    {
      "cell_type": "markdown",
      "metadata": {
        "id": "lDUFmK5UHQGu"
      },
      "source": [
        "# 9. Recursividad\n",
        "\n",
        "_¿En qué trabajas? Estoy intentando arreglar los problemas que creé cuando intentaba arreglar los problemas que creé cuando intentaba arreglar los problemas que creé. Y así nació la recursividad._\n",
        "\n",
        "## Función Recursiva para Calcular la Potencia de un Número\n",
        "\n",
        "En este ejercicio, vamos a crear una función recursiva que nos permita calcular la potencia de un número. La idea es que si tenemos un número \\(a\\) y queremos elevarlo a la potencia \\(b\\), la operación se representa como:\n",
        "\n",
        "$$a^b = a \\times a \\times \\dots \\times a$$\n",
        "\n",
        "Donde \\(a\\) se multiplica por sí mismo \\(b\\) veces.\n",
        "\n",
        "Para implementar esto de manera recursiva, consideraremos algunos casos base:\n",
        "\n",
        "1. Si \\(b = 0\\), cualquier número elevado a la potencia de 0 es 1.\n",
        "2. Si la base \\(a = 0\\), el resultado es 0 sin importar el exponente.\n",
        "3. Si \\(b = 1\\), el resultado es simplemente \\(a\\).\n",
        "\n",
        "Con estos casos base en mente, podemos proceder a implementar la función.\n"
      ],
      "id": "lDUFmK5UHQGu"
    },
    {
      "cell_type": "code",
      "execution_count": null,
      "id": "4f165876",
      "metadata": {
        "id": "4f165876"
      },
      "outputs": [],
      "source": [
        "def potencia(a, b):\n",
        "    # Caso base: cualquier número elevado a 0 es 1\n",
        "    if b == 0:\n",
        "        return 1\n",
        "    # Caso base: 0 elevado a cualquier número es 0\n",
        "    elif a == 0:\n",
        "        return 0\n",
        "    # Caso base: cualquier número elevado a 1 es él mismo\n",
        "    elif b == 1:\n",
        "        return a\n",
        "    # Caso recursivo\n",
        "    else:\n",
        "        return a * potencia(a, b-1)\n",
        "\n",
        "# Pruebas\n",
        "print(potencia(2, 4))  # 16\n",
        "print(potencia(4, 3))  # 64\n",
        "print(potencia(3, 4))  # 81\n"
      ]
    },
    {
      "cell_type": "markdown",
      "metadata": {
        "id": "dnlmET2XHQGx"
      },
      "source": [
        "## Ejemplos y Aplicaciones\n",
        "\n",
        "A menudo, cuando se busca sobre recursividad, se encuentra el ejemplo clásico de la secuencia de Fibonacci. Sin embargo, en este cuaderno, optaremos por no utilizar ese ejemplo. Queda a cargo del lector pensar en cómo resolver la secuencia de Fibonacci de manera recursiva y explorar otros ejemplos más allá de los típicos.\n",
        "\n",
        "En lugar de Fibonacci, vamos a explorar cómo la recursividad puede ser útil en el procesamiento de texto, utilizando el siguiente ejemplo.\n",
        "\n",
        "### Procesamiento de Texto Recursivo\n",
        "\n",
        "Imaginemos que tenemos un texto con varias palabras, y queremos contar cuántas veces aparece una palabra específica de manera recursiva. Vamos a implementar una función recursiva que realice esta tarea. Para hacerlo más interesante, supongamos que estamos analizando una receta de cocina y queremos contar cuántas veces aparece la palabra \"ingrediente\" en la lista de instrucciones.\n",
        "\n",
        "La idea es que vamos a analizar la receta como una lista de palabras, y recorreremos recursivamente la lista para contar cuántas veces aparece nuestra palabra objetivo.\n"
      ],
      "id": "dnlmET2XHQGx"
    },
    {
      "cell_type": "code",
      "execution_count": null,
      "metadata": {
        "id": "5yDw9avSHQGy"
      },
      "outputs": [],
      "source": [
        "def contar_palabra(texto, palabra, indice=0):\n",
        "    palabras = texto.split()  # Divide el texto en palabras\n",
        "    if indice >= len(palabras):\n",
        "        return 0  # Caso base: hemos terminado de revisar el texto\n",
        "    # Caso recursivo: suma 1 si la palabra coincide, de lo contrario sigue buscando\n",
        "    return (1 if palabras[indice] == palabra else 0) + contar_palabra(texto, palabra, indice + 1)\n",
        "\n",
        "# Prueba de la función\n",
        "texto_receta = \"ingrediente harina ingrediente agua ingrediente sal ingrediente levadura\"\n",
        "print(contar_palabra(texto_receta, \"ingrediente\"))  # Debería devolver 4\n"
      ],
      "id": "5yDw9avSHQGy"
    },
    {
      "cell_type": "markdown",
      "id": "cffbbc7d",
      "metadata": {
        "id": "cffbbc7d"
      },
      "source": [
        "## Desafíos\n",
        "\n",
        "**Desafío 1:**\n",
        "\n",
        "Crea una función recursiva que calcule el máximo común divisor (MCD) de dos números. El MCD de dos números es el número más grande que puede dividir ambos números sin dejar un residuo. Por ejemplo, el MCD de 8 y 12 es 4.\n",
        "\n",
        "Pista: Puedes usar el algoritmo de Euclides, que establece que el MCD de dos números también divide al residuo de su división. Por lo tanto, el MCD de a y b (donde a > b) es el mismo que el MCD de b y a % b.\n",
        "\n",
        "**Desafío 2:**\n",
        "\n",
        "Utiliza el modulo creado _procesador_texto_ para resaltar recursivamente todas las ocurrencias de una palabra clave en un texto largo.\n",
        "\n",
        "**Desafío 3:**\n",
        "\n",
        "Crea una función recursiva que invierta las palabras en una oración sin utilizar funciones incorporadas de Python para invertir cadenas o listas.\n",
        "\n",
        "**Desafío 4: El Mono que cuenta manzana**\n",
        "\n",
        "Imagina que tenemos un mono que intenta contar manzanas. Sin embargo, nuestro mono es un poco distraído y olvida cuántos manzanas ha contado cada vez que empieza a contar de nuevo. Cada vez que termina una secuencia de conteo, se olvida de los manzanas contados antes y vuelve a empezar, sumando todos desde el principio. Implementa una función recursiva que simule cómo el mono cuenta manzanas.\n",
        "\n",
        "Reglas:\n",
        "- El mono puede contar un manzana a la vez.\n",
        "- Cada vez que el mono termina de contar una pila de manzanas, tiene que volver a contar desde cero, pero sigue acumulando el total.\n",
        "\n",
        "Por ejemplo:\n",
        "- Si el mono tiene 5 manzanas en la pila, contará uno por uno, luego olvida y vuelve a empezar, acumulando la suma."
      ]
    },
    {
      "cell_type": "markdown",
      "source": [
        "Desafío 1\n"
      ],
      "metadata": {
        "id": "sn-ddO4WHsgU"
      },
      "id": "sn-ddO4WHsgU"
    },
    {
      "cell_type": "code",
      "source": [
        "def mcd(a, b):\n",
        "    if b == 0:\n",
        "        return a\n",
        "    else:\n",
        "        return mcd(b, a % b)\n",
        "\n",
        "# Ejemplo de uso\n",
        "x = int(input(\"Ingrese el primer número: \"))\n",
        "y = int(input(\"Ingrese el segundo número: \"))\n",
        "\n",
        "print(\"El MCD de\", x, \"y\", y, \"es:\", mcd(x, y))\n"
      ],
      "metadata": {
        "id": "z8HneS0hHvoD"
      },
      "id": "z8HneS0hHvoD",
      "execution_count": null,
      "outputs": []
    },
    {
      "cell_type": "markdown",
      "source": [
        "Desafío 3"
      ],
      "metadata": {
        "id": "hOi4DOWtITM2"
      },
      "id": "hOi4DOWtITM2"
    },
    {
      "cell_type": "code",
      "source": [
        "def invertir_palabras(oracion):\n",
        "    # Caso base: si no hay espacios, solo hay una palabra\n",
        "    if \" \" not in oracion:\n",
        "        return oracion\n",
        "    else:\n",
        "        # Separamos la primera palabra y el resto\n",
        "        primera, resto = oracion.split(\" \", 1)\n",
        "        # Llamada recursiva sobre el resto y concatenamos al final\n",
        "        return invertir_palabras(resto) + \" \" + primera\n",
        "\n",
        "# Ejemplo de uso\n",
        "texto = input(\"Ingrese una oración: \")\n",
        "print(\"Oración invertida:\", invertir_palabras(texto))\n"
      ],
      "metadata": {
        "colab": {
          "base_uri": "https://localhost:8080/"
        },
        "id": "Zm6GiuETIWJG",
        "outputId": "0e8d77b7-f583-4b06-e44a-0a70484d0902"
      },
      "id": "Zm6GiuETIWJG",
      "execution_count": 1,
      "outputs": [
        {
          "output_type": "stream",
          "name": "stdout",
          "text": [
            "Ingrese una oración: hola que tal\n",
            "Oración invertida: tal que hola\n"
          ]
        }
      ]
    },
    {
      "cell_type": "markdown",
      "source": [
        "Desafío 4"
      ],
      "metadata": {
        "id": "4JCVFqLgKP0v"
      },
      "id": "4JCVFqLgKP0v"
    },
    {
      "cell_type": "code",
      "source": [
        "def mono_cuenta_manzanas(n):\n",
        "    if n == 0:\n",
        "        return 0\n",
        "    else:\n",
        "        # El mono cuenta esta pila y luego olvida, pero suma al total acumulado\n",
        "        parcial = sum(range(1, n + 1))   # suma 1 + 2 + ... + n\n",
        "        return parcial + mono_cuenta_manzanas(n - 1)\n",
        "\n",
        "# Ejemplo de uso\n",
        "pila = int(input(\"Ingrese cuántas manzanas tiene la pila: \"))\n",
        "print(\"El mono contó un total de:\", mono_cuenta_manzanas(pila))\n"
      ],
      "metadata": {
        "colab": {
          "base_uri": "https://localhost:8080/"
        },
        "id": "9ObAqaUHKRy5",
        "outputId": "b2f556c0-2170-491f-e225-d617c3cf13e3"
      },
      "id": "9ObAqaUHKRy5",
      "execution_count": 10,
      "outputs": [
        {
          "output_type": "stream",
          "name": "stdout",
          "text": [
            "Ingrese cuántas manzanas tiene la pila: 8\n",
            "El mono contó un total de: 120\n"
          ]
        }
      ]
    },
    {
      "cell_type": "markdown",
      "metadata": {
        "id": "SorSd0hjHQGz"
      },
      "source": [
        "---\n",
        "\n",
        "Para más detalles y ejemplos sobre recursividad, puedes consultar la [referencia proporcionada](https://www.tutorialesprogramacionya.com/pythonya/detalleconcepto.php?punto=90&codigo=91&inicio=75#:~:text=En%20Python%20las%20funciones%20o,nuevas%20variables%20locales%20y%20par%C3%A1metros.)."
      ],
      "id": "SorSd0hjHQGz"
    }
  ],
  "metadata": {
    "kernelspec": {
      "display_name": "venv",
      "language": "python",
      "name": "python3"
    },
    "language_info": {
      "codemirror_mode": {
        "name": "ipython",
        "version": 3
      },
      "file_extension": ".py",
      "mimetype": "text/x-python",
      "name": "python",
      "nbconvert_exporter": "python",
      "pygments_lexer": "ipython3",
      "version": "3.11.1"
    },
    "colab": {
      "provenance": [],
      "include_colab_link": true
    }
  },
  "nbformat": 4,
  "nbformat_minor": 5
}