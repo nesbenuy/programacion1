{
  "nbformat": 4,
  "nbformat_minor": 0,
  "metadata": {
    "colab": {
      "provenance": [],
      "authorship_tag": "ABX9TyPAEAOvofIGCYklDr+Oa8SY",
      "include_colab_link": true
    },
    "kernelspec": {
      "name": "python3",
      "display_name": "Python 3"
    },
    "language_info": {
      "name": "python"
    }
  },
  "cells": [
    {
      "cell_type": "markdown",
      "metadata": {
        "id": "view-in-github",
        "colab_type": "text"
      },
      "source": [
        "<a href=\"https://colab.research.google.com/github/nesbenuy/programacion1/blob/main/desafio3y4.ipynb\" target=\"_parent\"><img src=\"https://colab.research.google.com/assets/colab-badge.svg\" alt=\"Open In Colab\"/></a>"
      ]
    },
    {
      "cell_type": "markdown",
      "source": [
        "# Tarea 2.4 – Tipos de datos y operadores en Python\n",
        "\n",
        "**Autor:** Néstor Bentaberry  \n",
        "**Fecha de entrega:** 28 de abril de 2025  \n",
        "**Curso:** Primer año – Profesorado de Informática – CERP Colonia  \n",
        "\n",
        "Este cuaderno contiene la resolución completa y documentada de los Desafíos 3 y 4 del cuaderno `2_4_Tipos_de_datos_y_operadores.ipynb`, aplicando estructuras condicionales, operadores y validaciones en Python."
      ],
      "metadata": {
        "id": "sp_jm9P-iL34"
      }
    },
    {
      "cell_type": "markdown",
      "source": [
        "## Desafío 3 – Convertidor de Temperaturas\n",
        "\n",
        "En este desafío se nos propuso construir un pequeño conversor de temperaturas. A partir de una temperatura dada en grados Celsius, debíamos calcular su equivalencia en Fahrenheit y Kelvin.\n",
        "\n",
        "Fue necesario trabajar con variables tipo `float` y operadores aritméticos básicos como suma, multiplicación y división. Para asegurar la coherencia del programa, agregamos una validación para evitar que se ingresen temperaturas menores al cero absoluto (-273.15 °C), algo que no tiene sentido en la realidad.\n",
        "\n",
        "Este ejercicio resultó útil para comprender cómo se pueden transformar fórmulas matemáticas en instrucciones de código, al mismo tiempo que incorporamos controles que hacen que nuestros programas sean más sólidos y confiables."
      ],
      "metadata": {
        "id": "O7cWRGdsipQt"
      }
    },
    {
      "cell_type": "code",
      "execution_count": null,
      "metadata": {
        "colab": {
          "base_uri": "https://localhost:8080/"
        },
        "id": "LgPw8LVIXhYj",
        "outputId": "66a42820-bdcf-4c77-b34e-605792452f01"
      },
      "outputs": [
        {
          "output_type": "stream",
          "name": "stdout",
          "text": [
            "Ingrese la temperatura en grados Celsius: -200\n",
            "-200.0°C equivale a -328.00°F\n",
            "-200.0°C equivale a 73.15K\n"
          ]
        }
      ],
      "source": [
        "# Desafío 3 – Convertidor de Temperaturas\n",
        "# Autor: Néstor Bentaberry\n",
        "# Fecha: 22/04/2025\n",
        "\n",
        "# Ingreso de la temperatura en grados Celsius\n",
        "celsius = float(input(\"Ingrese la temperatura en grados Celsius: \"))\n",
        "\n",
        "# Validación de temperatura del cero absoluto\n",
        "if celsius < -273.15:\n",
        "    print(\"Error: la temperatura ingresada es menor al cero absoluto (-273.15 °C), lo cual no es físicamente posible.\")\n",
        "else:\n",
        "    # Conversiones\n",
        "    fahrenheit = (celsius * 9/5) + 32\n",
        "    kelvin = celsius + 273.15\n",
        "\n",
        "    # Resultados\n",
        "    print(f\"{celsius}°C equivale a {fahrenheit:.2f}°F\")\n",
        "    print(f\"{celsius}°C equivale a {kelvin:.2f}K\")"
      ]
    },
    {
      "cell_type": "markdown",
      "source": [
        "## Desafío 4 – Verificación de Múltiplos\n",
        "\n",
        "Aquí el objetivo fue crear un programa que analice si un número ingresado por el usuario es múltiplo de varios valores: 2, 3, 5, 7, 9, 10 y 11.\n",
        "\n",
        "Utilizamos una lista de divisores y un bucle `for` para recorrerlos, acompañado de una estructura condicional que nos permite mostrar, uno por uno, si el número cumple con cada condición. También incorporamos una validación inicial para asegurar que el valor ingresado sea un número entero válido, evitando errores inesperados.\n",
        "\n",
        "Este desafío permitió ejercitar conceptos muy importantes: el uso de listas, los 'bucles' con `for`, las condiciones `if`, y sobre todo, la importancia de validar lo que el usuario escribe para que el programa funcione correctamente en todos los casos."
      ],
      "metadata": {
        "id": "LwzVp-LLi3ms"
      }
    },
    {
      "cell_type": "code",
      "source": [
        "# Desafío 4 – Verificación de Múltiplos\n",
        "# Autor: Néstor Bentaberry\n",
        "# Fecha: 22/04/2025\n",
        "\n",
        "# Ingreso del número por teclado\n",
        "entrada = input(\"Ingrese un número entero: \")\n",
        "\n",
        "# Validación de entrada para que sea un número entero\n",
        "if not entrada.lstrip(\"-\").isdigit():\n",
        "    print(\"Error: debe ingresar un número entero válido.\")\n",
        "else:\n",
        "    numero = int(entrada)\n",
        "    divisores = [2, 3, 5, 7, 9, 10, 11]\n",
        "\n",
        "    print(f\"\\nVerificando múltiplos para el número {numero}:\")\n",
        "\n",
        "    # Evaluación de múltiplos - agregué un ✔ cuando es múltiplo y un ✘ cuando no lo es\n",
        "    for divisor in divisores:\n",
        "        if numero % divisor == 0:\n",
        "            print(f\"✔ {numero} es múltiplo de {divisor}.\")\n",
        "        else:\n",
        "            print(f\"✘ {numero} no es múltiplo de {divisor}.\")"
      ],
      "metadata": {
        "colab": {
          "base_uri": "https://localhost:8080/"
        },
        "id": "pZ_VcWyVZVOl",
        "outputId": "63092a82-8ab0-4722-a37a-aabf5fc5b622"
      },
      "execution_count": null,
      "outputs": [
        {
          "output_type": "stream",
          "name": "stdout",
          "text": [
            "Ingrese un número entero: 8\n",
            "\n",
            "Verificando múltiplos para el número 8:\n",
            "✔ 8 es múltiplo de 2.\n",
            "✘ 8 no es múltiplo de 3.\n",
            "✘ 8 no es múltiplo de 5.\n",
            "✘ 8 no es múltiplo de 7.\n",
            "✘ 8 no es múltiplo de 9.\n",
            "✘ 8 no es múltiplo de 10.\n",
            "✘ 8 no es múltiplo de 11.\n"
          ]
        }
      ]
    },
    {
      "cell_type": "markdown",
      "source": [
        "## Fuentes consultadas\n",
        "\n",
        "Para resolver estos desafíos, consulté materiales que ayudan a profundizar la comprensión del lenguaje Python y sus herramientas básicas. Aquí comparto las fuentes utilizadas:\n",
        "\n",
        "- Materiales brindados por el docente\n",
        "- [Python.org – Introducción a tipos numéricos y operadores](https://docs.python.org/es/3/tutorial/introduction.html#numbers)  \n",
        "- [W3Schools – Condicionales en Python](https://www.w3schools.com/python/python_conditions.asp)  \n",
        "\n",
        "\n"
      ],
      "metadata": {
        "id": "KSW-GjCujLe-"
      }
    },
    {
      "cell_type": "markdown",
      "source": [
        "## Repositorio en GitHub\n",
        "\n",
        "El cuaderno con los desafíos resueltos está disponible en el siguiente enlace: https://github.com/nesbenuy/programacion1"
      ],
      "metadata": {
        "id": "pR2KIfMBk1aH"
      }
    }
  ]
}