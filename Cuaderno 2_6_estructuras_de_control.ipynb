{
  "cells": [
    {
      "cell_type": "markdown",
      "metadata": {
        "id": "view-in-github",
        "colab_type": "text"
      },
      "source": [
        "<a href=\"https://colab.research.google.com/github/nesbenuy/programacion1/blob/main/Cuaderno%202_6_estructuras_de_control.ipynb\" target=\"_parent\"><img src=\"https://colab.research.google.com/assets/colab-badge.svg\" alt=\"Open In Colab\"/></a>"
      ]
    },
    {
      "cell_type": "markdown",
      "metadata": {
        "id": "UG0BflsZQk3v"
      },
      "source": [
        "# 6. Estructuras de control"
      ]
    },
    {
      "cell_type": "markdown",
      "metadata": {
        "id": "R5HHsfjCQpiW"
      },
      "source": [
        "En cualquier programa, es esencial poder controlar el flujo de la ejecución. Aquí es donde entran en juego las estructuras de control, que nos permiten tomar decisiones y repetir acciones en nuestros programas. Antes de adentrarnos en los detalles de estas estructuras, recordemos algunos conceptos fundamentales de tipos de datos y operadores que hemos visto previamente. Los tipos de datos, como enteros, cadenas y booleanos, junto con los operadores de comparación y lógicos, son fundamentales para evaluar las condiciones que rigen nuestras decisiones. Además, la entrada y salida de datos nos permiten interactuar con el usuario, obteniendo información necesaria y mostrando resultados relevantes. Estas habilidades serán cruciales al trabajar con declaraciones condicionales, como if, elif y else, que nos permiten desarrollar programas dinámicos que responden a diferentes situaciones. Vamos a explorar estas estructuras de control en más detalle."
      ]
    },
    {
      "cell_type": "markdown",
      "metadata": {
        "id": "S9WqCCHyQt-6"
      },
      "source": [
        "## a. Cruce de decisiones: Condicionales"
      ]
    },
    {
      "cell_type": "markdown",
      "metadata": {
        "id": "9qq9Wp-5Qv-0"
      },
      "source": [
        "Las estructuras de control son como los signos de tráfico en el camino de la ejecución de nuestro programa. Nos permiten tomar decisiones basadas en diferentes condiciones y repetir ciertas acciones hasta que se cumpla una condición. En Python, los condicionales se manejan con las palabras clave if, elif y else.\n",
        "\n",
        "Vamos a imaginar que estamos desarrollando un programa para determinar si un estudiante ha aprobado o reprobado un examen basado en su calificación."
      ]
    },
    {
      "cell_type": "code",
      "execution_count": null,
      "metadata": {
        "id": "R0NsZaZvQ1f5"
      },
      "outputs": [],
      "source": [
        "calificacion = int(input(\"Por favor ingrese la calificación del estudiante: \"))\n",
        "\n",
        "if calificacion >= 6:\n",
        "    print(\"El estudiante ha aprobado el examen.\")\n",
        "else:\n",
        "    print(\"El estudiante ha reprobado el examen.\")"
      ]
    },
    {
      "cell_type": "markdown",
      "metadata": {
        "id": "KlZiQh96RCvG"
      },
      "source": [
        "En este ejemplo, el programa pide al usuario que ingrese la calificación del estudiante. Luego, usa una declaración if para comprobar si la calificación es igual o superior a 6. Si es así, el programa imprime un mensaje diciendo que el estudiante ha aprobado. Si no es así, el programa imprime un mensaje diciendo que el estudiante ha reprobado."
      ]
    },
    {
      "cell_type": "markdown",
      "metadata": {
        "id": "9c3FeR-G8DPJ"
      },
      "source": [
        "A menudo, cuando programamos, nos encontramos con situaciones donde no basta con preguntar \"¿es esto cierto o falso?\". La realidad suele ser más compleja y necesitamos considerar múltiples condiciones. Por ejemplo, ¿qué pasa si queremos saber si un número es positivo, negativo o cero? No podemos limitarnos a una sola pregunta. Aquí es donde el uso de elif se vuelve esencial, permitiéndonos manejar varios escenarios posibles con claridad y precisión."
      ]
    },
    {
      "cell_type": "code",
      "execution_count": null,
      "metadata": {
        "id": "WDZgRglJ8DPK"
      },
      "outputs": [],
      "source": [
        "numero = float(input(\"Ingrese un número: \"))\n",
        "\n",
        "if numero > 0:\n",
        "    print(f\"{numero} es un número positivo.\")\n",
        "elif numero == 0:\n",
        "    print(f\"{numero} es cero.\")\n",
        "else:\n",
        "    print(f\"{numero} es un número negativo.\")"
      ]
    },
    {
      "cell_type": "markdown",
      "metadata": {
        "id": "I0pBnFGO8DPK"
      },
      "source": [
        "A veces, nos encontramos en situaciones donde queremos asignar un valor a una variable dependiendo de una condición específica. Por ejemplo, queremos saber si un número es par o impar y asignar un valor basado en esa condición. En Python, podemos hacer esto de manera concisa utilizando expresiones condicionales en una sola línea. Esta técnica nos permite escribir código más limpio y directo. Aquí está la solución:"
      ]
    },
    {
      "cell_type": "code",
      "execution_count": null,
      "metadata": {
        "id": "1IH4nGch8DPK"
      },
      "outputs": [],
      "source": [
        "numero = int(input(\"Ingrese un número: \"))\n",
        "tipo_numero = \"par\" if numero % 2 == 0 else \"impar\"\n",
        "print(f\"El número {numero} es {tipo_numero}.\")"
      ]
    },
    {
      "cell_type": "markdown",
      "metadata": {
        "id": "dUMswdU3RFJs"
      },
      "source": [
        "## b. Ciclos terminables: Bucles 'for'"
      ]
    },
    {
      "cell_type": "markdown",
      "metadata": {
        "id": "ataNihYiRHqQ"
      },
      "source": [
        "En ocasiones, necesitaremos repetir una acción varias veces. Aquí es donde los bucles entran en juego. Python ofrece dos tipos de bucles: for y while.\n",
        "\n",
        "Para ilustrar cómo funcionan, vamos a usar un ejemplo simple. Supongamos que queremos imprimir los números del 1 al 5."
      ]
    },
    {
      "cell_type": "code",
      "execution_count": null,
      "metadata": {
        "id": "vCaDA9g5RLTj"
      },
      "outputs": [],
      "source": [
        "for numero in range(1, 6):\n",
        "    print(numero)"
      ]
    },
    {
      "cell_type": "markdown",
      "metadata": {
        "id": "eDRQRryUROIi"
      },
      "source": [
        "En este caso, el bucle for recorre los números del 1 al 5 (el límite superior en range() es exclusivo), imprimiendo cada número en la consola.\n",
        "\n",
        "Las estructuras de control, los condicionales y los bucles son fundamentales en la programación. Nos permiten crear programas más dinámicos y flexibles, capaces de tomar decisiones y repetir tareas basadas en las condiciones que definamos."
      ]
    },
    {
      "cell_type": "markdown",
      "metadata": {
        "id": "V-uEdgXwRQ86"
      },
      "source": [
        "## c. Please, stop the 'while'"
      ]
    },
    {
      "cell_type": "markdown",
      "metadata": {
        "id": "vgOHPgZl8DPM"
      },
      "source": [
        "Primero vamos a ver que es \"while\", es un bucle que repite un bloque de codigo mientras sea verdadera, en nuestras palabras imaginemos que tenemos 10 ml de agua este estara con agua que es nuestra verdad hasta que lo terminamos ahi paso a ser falso entonces se terminaria el bucle"
      ]
    },
    {
      "cell_type": "markdown",
      "metadata": {
        "id": "mR47-zpZS6SE"
      },
      "source": [
        "Vamos a aplicar nuestro conocimiento recién adquirido sobre bucles para resolver un problema real: calcular el promedio de las calificaciones de un estudiante. Supongamos que un estudiante nos proporciona sus calificaciones una por una. El estudiante indicará que ha terminado de proporcionar las calificaciones ingresando el número 0."
      ]
    },
    {
      "cell_type": "code",
      "execution_count": null,
      "metadata": {
        "id": "dOIrCor0S8sH"
      },
      "outputs": [],
      "source": [
        "suma_calificaciones = 0\n",
        "contador_asignaturas = 0\n",
        "\n",
        "calificacion = int(input(\"Ingrese una calificación (entre 1 y 12) o 0 para terminar: \"))\n",
        "\n",
        "while calificacion != 0:\n",
        "    suma_calificaciones += calificacion\n",
        "    contador_asignaturas += 1\n",
        "    calificacion = int(input(\"Ingrese una calificación (entre 1 y 12) o 0 para terminar: \"))\n",
        "\n",
        "promedio = suma_calificaciones / contador_asignaturas\n",
        "print(f\"El promedio de las calificaciones es: {promedio}\")"
      ]
    },
    {
      "cell_type": "markdown",
      "metadata": {
        "id": "yd1hyqUfTZxw"
      },
      "source": [
        "En este código, el bucle while se ejecuta hasta que el estudiante ingrese 0. Si bien es sencillo y cumple con su objetivo, este código no verifica si las calificaciones ingresadas están dentro del rango válido (1 a 12)."
      ]
    },
    {
      "cell_type": "markdown",
      "metadata": {
        "id": "OIoa2RMNTaeq"
      },
      "source": [
        "## d. Controlando el flujo con 'break' y 'continue'"
      ]
    },
    {
      "cell_type": "markdown",
      "metadata": {
        "id": "_N5yXORgTfjB"
      },
      "source": [
        "Ahora, vamos a mejorar nuestro código anterior incorporando las declaraciones break y continue para un mejor control del flujo del programa y la validación de las calificaciones."
      ]
    },
    {
      "cell_type": "markdown",
      "metadata": {
        "id": "5OpG-Wx1TrIM"
      },
      "source": [
        "En este código, la declaración break se utiliza para detener el bucle cuando el estudiante ingresa 0. Por otro lado, la declaración continue se usa para saltar a la próxima iteración del bucle si la calificación ingresada no está dentro del rango válido, evitando así que calificaciones incorrectas se sumen a suma_calificaciones y se cuenten en contador_asignaturas."
      ]
    },
    {
      "cell_type": "code",
      "execution_count": null,
      "metadata": {
        "id": "Xc8_XEQPTiRQ"
      },
      "outputs": [],
      "source": [
        "suma_calificaciones = 0\n",
        "contador_asignaturas = 0\n",
        "\n",
        "while True:\n",
        "    calificacion = int(input(\"Ingrese una calificación (entre 1 y 12) o 0 para terminar: \"))\n",
        "\n",
        "    if calificacion == 0:\n",
        "        break\n",
        "\n",
        "    if calificacion < 1 or calificacion > 12:\n",
        "        print(\"La calificación debe estar entre 1 y 12. Inténtalo de nuevo.\")\n",
        "        continue\n",
        "\n",
        "    suma_calificaciones += calificacion\n",
        "    contador_asignaturas += 1\n",
        "\n",
        "promedio = suma_calificaciones / contador_asignaturas\n",
        "print(f\"El promedio de las calificaciones es: {promedio}\")"
      ]
    },
    {
      "cell_type": "markdown",
      "metadata": {
        "id": "LkwXhVW1Txa4"
      },
      "source": [
        "# Desafíos\n"
      ]
    },
    {
      "cell_type": "markdown",
      "metadata": {
        "id": "F-ti-8L-V0lP"
      },
      "source": [
        "## Desafío 1: Calificaciones aprobadas\n",
        "\n",
        "Supón que estás analizando las calificaciones de los estudiantes y quieres saber cuántos aprobaron y cuántos desaprobaron. Se considera que una calificación de 7 o superior es aprobatoria y cualquier calificación menor a 7 es desaprobatoria. Utiliza lo que aprendiste sobre bucles y condicionales para resolver este problema."
      ]
    },
    {
      "cell_type": "code",
      "source": [
        "# Lista de calificaciones de ejemplo\n",
        "calificaciones = [8, 5, 9, 6, 7, 4, 10, 3]\n",
        "\n",
        "# Inicializamos contadores\n",
        "aprobados = 0\n",
        "desaprobados = 0\n",
        "\n",
        "# Recorremos cada calificación\n",
        "for nota in calificaciones:\n",
        "    if nota >= 7:\n",
        "        aprobados += 1\n",
        "    else:\n",
        "        desaprobados += 1\n",
        "\n",
        "# Mostramos los resultados\n",
        "print(\"Estudiantes que han aprobado:\", aprobados)\n",
        "print(\"Estudiantes que no han aprobado:\", desaprobados)\n"
      ],
      "metadata": {
        "colab": {
          "base_uri": "https://localhost:8080/"
        },
        "id": "2q-DCcFS9skp",
        "outputId": "09046ac7-5126-4ec7-809c-b753acbb6be5"
      },
      "execution_count": null,
      "outputs": [
        {
          "output_type": "stream",
          "name": "stdout",
          "text": [
            "Estudiantes que han aprobado: 4\n",
            "Estudiantes que no han aprobado: 4\n"
          ]
        }
      ]
    },
    {
      "cell_type": "markdown",
      "source": [
        "Este ejercicio nos invita a resolver una situación bastante común en el ámbito educativo: queremos saber cuántos estudiantes aprobaron y cuántos no, en base a una lista de calificaciones. En lugar de contar a mano, usamos un pequeño programa que recorre todas las notas y nos da ese resultado automáticamente. La condición es clara: toda calificación mayor o igual a 7 se considera aprobada, y el resto, no. Así, a partir de una lista de notas, el programa nos permite sacar una conclusión rápida y confiable sobre el rendimiento general.\n",
        "\n",
        "Para hacerlo, creamos dos contadores que empiezan en cero: uno para quienes aprobaron y otro para quienes no. Luego, usamos un bucle que va revisando una por una las notas de la lista. En cada caso, el programa evalúa si la nota es 7 o más. Si lo es, suma uno al contador de aprobados; si no, suma uno al de desaprobados. Al final, muestra los resultados en pantalla. Esta estructura permite separar y clasificar la información de manera ordenada, sin perder tiempo ni correr el riesgo de errores al hacerlo manualmente.\n",
        "\n",
        "Una dificultad posible fue recordar que los contadores deben inicializarse en cero antes de empezar a contar. También puede haber surgido la duda sobre cómo escribir la condición de aprobación de forma correcta. Una vez resueltos esos detalles, el resto del código fluye con naturalidad. Es una excelente forma de ver cómo la lógica y la programación nos ayudan a automatizar tareas cotidianas, hacerlas más precisas y ahorrar tiempo."
      ],
      "metadata": {
        "id": "ZXtuDEh--Njj"
      }
    },
    {
      "cell_type": "markdown",
      "metadata": {
        "id": "QCwpO0XhV_oA"
      },
      "source": [
        "## Desafío 2: Mejora del cálculo\n",
        "\n",
        "Toma el ejemplo del cálculo del promedio de calificaciones y mejóralo. En lugar de pedir las calificaciones una por una, modifica el código para pedir todas las calificaciones al mismo tiempo (el estudiante puede ingresar las calificaciones separadas por comas) y luego calcular el promedio."
      ]
    },
    {
      "cell_type": "code",
      "source": [
        "# El usuario ingresa todas las calificaciones separadas por comas\n",
        "entrada = input(\"Ingresá todas las calificaciones separadas por comas: \")  # Ej: 8,7,6\n",
        "\n",
        "# Separamos la cadena usando split y convertimos los valores a enteros\n",
        "elementos = entrada.split(',')  # Esto crea una lista de textos\n",
        "calificaciones = []  # Lista vacía\n",
        "\n",
        "for texto in elementos:\n",
        "    calificaciones.append(int(texto))  # Convertimos cada uno en número\n",
        "\n",
        "# Calculamos el promedio\n",
        "suma = 0\n",
        "for nota in calificaciones:\n",
        "    suma = suma + nota\n",
        "\n",
        "cantidad = len(calificaciones)\n",
        "promedio = suma / cantidad\n",
        "\n",
        "# Mostramos el resultado\n",
        "print(\"El promedio de las calificaciones es:\", promedio)\n",
        "\n",
        "# Usamos condicional para dar una devolución\n",
        "if promedio >= 7:\n",
        "    print(\"Promedio aprobado.\")\n",
        "else:\n",
        "    print(\"Promedio desaprobado.\")\n",
        "\n"
      ],
      "metadata": {
        "colab": {
          "base_uri": "https://localhost:8080/"
        },
        "id": "zjxWKG8L-X_G",
        "outputId": "eeb64221-9daf-4749-e6a5-e77622972df0"
      },
      "execution_count": null,
      "outputs": [
        {
          "output_type": "stream",
          "name": "stdout",
          "text": [
            "Ingresá todas las calificaciones separadas por comas: 4,7,8,2,3,4,5,7\n",
            "El promedio de las calificaciones es: 5.0\n",
            "❌ Promedio desaprobado.\n"
          ]
        }
      ]
    },
    {
      "cell_type": "markdown",
      "source": [
        "El ejercicio nos plantea una mejora concreta: ya no queremos pedir una calificación por vez, sino permitir que el usuario ingrese todas juntas en una sola línea, separadas por comas. Esto hace que el programa sea más cómodo y rápido de usar, como si estuviéramos cargando datos en un sistema real. Luego de ingresar las notas, el programa debe calcular automáticamente el promedio y decirnos si ese promedio alcanza para aprobar o no. Esta consigna nos obliga a pensar en cómo tomar varios datos a la vez y procesarlos correctamente.\n",
        "\n",
        "Para resolverlo, usamos input() para que el usuario escriba todas las calificaciones y aplicamos split(',') para separarlas. Luego usamos un bucle for para convertir cada calificación a número y sumarlas. Con esa suma y la cantidad total de notas (que obtuvimos con len()), calculamos el promedio. Finalmente, incorporamos una estructura if-else para dar una devolución automática: si el promedio es 7 o más, el mensaje dice que fue aprobado; si es menor, indica que no alcanzó. Así combinamos estructuras secuenciales, repetitivas y condicionales en un mismo programa.\n",
        "\n",
        "Una pequeña dificultad fue que algunas funciones, como split() o len(), todavía no se habían trabajado en profundidad en el curso. Sin embargo, se decidió usarlas en este desafío porque permiten resolver el problema de manera clara y sencilla, y porque representan un buen punto de avance en el aprendizaje.\n",
        "Incluir una condición al final no solo responde al objetivo del trabajo (usar if), sino que aporta realismo: en la vida real, siempre queremos saber si se aprueba o no."
      ],
      "metadata": {
        "id": "8_sssVoaB7yR"
      }
    },
    {
      "cell_type": "markdown",
      "metadata": {
        "id": "DGHX8zGvWK5k"
      },
      "source": [
        "## Desafío 3: Simulación de una carrera de autos\n",
        "\n",
        "Vas a simular una carrera de autos. Cada auto tiene una velocidad aleatoria (puedes usar la biblioteca random de Python) y cada ciclo del bucle representa un segundo de la carrera. Al final de cada segundo, cada auto avanza una distancia igual a su velocidad. La carrera dura 10 segundos. Al final de la carrera, debes imprimir el auto ganador. Si hay un empate, debes imprimir todos los autos que empataron.\n",
        "\n",
        "*Nota:* Este desafío puede requerir que aprendas sobre conceptos adicionales, por ejemplo cómo generar números aleatorios."
      ]
    },
    {
      "cell_type": "markdown",
      "metadata": {
        "id": "RLrgqVsaVxSZ"
      },
      "source": [
        "# Problemas"
      ]
    },
    {
      "cell_type": "markdown",
      "metadata": {
        "id": "-aldGZ8yVyJ_"
      },
      "source": [
        "## Problema: Cálculo de gastos de un viaje\n",
        "\n",
        "Supongamos que estás planeando un viaje y quieres calcular el total de gastos estimados. Tienes un arreglo de los diferentes conceptos de gastos (por ejemplo, transporte, alojamiento, alimentación, actividades, etc.) y quieres solicitar al usuario que ingrese el costo estimado para cada concepto. Al final, quieres mostrar el total de gastos estimados para el viaje.\n",
        "\n",
        "Planteamiento del problema:\n",
        "* Crea un arreglo de conceptos de gastos.\n",
        "* Utiliza un bucle for para iterar sobre el arreglo y solicitar al usuario que ingrese el costo estimado para cada concepto.\n",
        "* Utiliza una variable para realizar el seguimiento del total de gastos estimados, inicializada en 0.\n",
        "* Dentro del bucle, agrega el costo ingresado a la variable del total de gastos estimados.\n",
        "* Al final del bucle, muestra el total de gastos estimados.\n",
        "\n",
        "Aquí tienes un ejemplo de cómo podrías resolver este desafío utilizando arreglos:"
      ]
    },
    {
      "cell_type": "code",
      "execution_count": null,
      "metadata": {
        "id": "A9duJ5uFYY81"
      },
      "outputs": [],
      "source": [
        "import numpy as np\n",
        "\n",
        "conceptos_gastos = np.array(['Transporte', 'Alojamiento', 'Alimentación', 'Actividades', 'Otros'])\n",
        "\n",
        "total_gastos = 0\n",
        "\n",
        "for concepto in conceptos_gastos:\n",
        "    costo = float(input(f\"Ingrese el costo estimado para {concepto}: \"))\n",
        "    total_gastos += costo\n",
        "\n",
        "print(f\"El total de gastos estimados para el viaje es: {total_gastos}\")"
      ]
    },
    {
      "cell_type": "markdown",
      "metadata": {
        "id": "jI7zImR4YjP2"
      },
      "source": [
        "En este código, utilizamos un bucle for para iterar sobre el arreglo de conceptos de gastos. En cada iteración, solicitamos al usuario que ingrese el costo estimado para ese concepto y lo sumamos al total de gastos estimados. Al final, mostramos el resultado.\n",
        "\n",
        "¡Ahora puedes calcular fácilmente el total de gastos estimados para tu próximo viaje utilizando arreglos! ¡Es asombroso cómo Python nos permite resolver problemas de manera eficiente y sencilla! No te preocupes, en el próximo cuaderno exploraremos más a fondo los conceptos y funcionalidades de los arreglos en Python."
      ]
    },
    {
      "cell_type": "markdown",
      "metadata": {
        "id": "_OndWBmaYovM"
      },
      "source": [
        "## Problema: Análisis de calificaciones utilizando Pandas y bucles\n",
        "Supongamos que tienes un archivo CSV llamado \"calificaciones.csv\" que contiene las calificaciones de varios estudiantes. Tu objetivo es realizar un análisis de las calificaciones utilizando la biblioteca Pandas y bucles for.\n",
        "\n",
        "\n",
        "*Planteamiento del problema:*\n",
        "Importa la biblioteca Pandas.\n",
        "Carga el archivo CSV \"calificaciones.csv\" en un DataFrame de Pandas.\n",
        "Utiliza un bucle for para calcular el promedio de cada estudiante y mostrarlo en la consola.\n",
        "\n",
        "Aquí tienes un ejemplo de cómo podrías resolver este desafío utilizando Pandas y bucles for:"
      ]
    },
    {
      "cell_type": "code",
      "execution_count": null,
      "metadata": {
        "id": "ycHLwAYcbSob"
      },
      "outputs": [],
      "source": [
        "import pandas as pd\n",
        "\n",
        "# Carga el archivo CSV en un DataFrame\n",
        "df = pd.read_csv(\"calificaciones.csv\")\n",
        "\n",
        "# Inicializa variables para calcular el promedio general\n",
        "total_calificaciones = 0\n",
        "numero_calificaciones = 0\n",
        "\n",
        "# Utiliza un bucle for para sumar todas las calificaciones\n",
        "for index, row in df.iterrows():\n",
        "    nombre = row['Nombre']\n",
        "    calificacion = int(row['Calificacion'])\n",
        "    total_calificaciones += calificacion\n",
        "    numero_calificaciones += 1\n",
        "    print(f\"La calificación de {nombre} es: {calificacion}\")\n",
        "\n",
        "# Calcula el promedio general\n",
        "promedio_general = total_calificaciones / numero_calificaciones\n",
        "print(f\"El promedio general de las calificaciones es: {promedio_general:.2f}\")\n"
      ]
    },
    {
      "cell_type": "markdown",
      "metadata": {
        "id": "jOSCW8hyauFA"
      },
      "source": [
        "En este código, utilizamos Pandas para cargar el archivo CSV en un DataFrame. Luego, utilizamos un bucle for junto con iterrows() para iterar sobre cada fila del DataFrame. Para cada estudiante, extraemos el nombre y la calificación, para luego calcular el promedio."
      ]
    }
  ],
  "metadata": {
    "colab": {
      "provenance": [],
      "toc_visible": true,
      "include_colab_link": true
    },
    "kernelspec": {
      "display_name": "Python 3",
      "name": "python3"
    },
    "language_info": {
      "codemirror_mode": {
        "name": "ipython",
        "version": 3
      },
      "file_extension": ".py",
      "mimetype": "text/x-python",
      "name": "python",
      "nbconvert_exporter": "python",
      "pygments_lexer": "ipython3",
      "version": "3.12.2"
    }
  },
  "nbformat": 4,
  "nbformat_minor": 0
}