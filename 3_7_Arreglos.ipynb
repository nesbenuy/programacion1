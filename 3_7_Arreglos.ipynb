{
  "cells": [
    {
      "cell_type": "markdown",
      "metadata": {
        "id": "view-in-github",
        "colab_type": "text"
      },
      "source": [
        "<a href=\"https://colab.research.google.com/github/nesbenuy/programacion1/blob/main/3_7_Arreglos.ipynb\" target=\"_parent\"><img src=\"https://colab.research.google.com/assets/colab-badge.svg\" alt=\"Open In Colab\"/></a>"
      ]
    },
    {
      "cell_type": "markdown",
      "metadata": {
        "id": "2UOj9D8HwgLm"
      },
      "source": [
        "# Introducción"
      ]
    },
    {
      "cell_type": "markdown",
      "metadata": {
        "id": "mGH096y4wjvI"
      },
      "source": [
        "¡Hola, volvimos! Seguro que están familiarizados con los tipos de datos básicos que hemos trabajado en capítulos anteriores, como los números y las cadenas. ¿Pero qué pasa si quieres almacenar un montón de números o cadenas? ¿Vas a declarar una variable para cada uno de ellos? ¡Por supuesto que no! Ahí es donde entran los arreglos. ¿Y qué son los arreglos? Bueno, estoy aquí para contarte todo sobre ellos.\n",
        "\n",
        "Imagínate que eres el dueño de una tienda y tienes varios productos. Necesitas una forma de llevar un registro de los productos que tienes en stock. Podrías tener una variable para cada producto, pero eso rápidamente se vuelve inmanejable. En lugar de eso, puedes usar un arreglo para guardar los nombres de los productos en un solo lugar. ¡Vamos a explorar cómo hacerlo!"
      ]
    },
    {
      "cell_type": "markdown",
      "metadata": {
        "id": "3Qk-rJUixMdV"
      },
      "source": [
        "# ¿Qué es un arreglo unidimensional?"
      ]
    },
    {
      "cell_type": "markdown",
      "metadata": {
        "id": "kOHq30duxPwE"
      },
      "source": [
        "En términos muy sencillos, un arreglo es una colección de elementos que son *del mismo tipo de datos*. Piensa en él como una estantería donde cada estante tiene un valor que tú decides."
      ]
    },
    {
      "cell_type": "code",
      "execution_count": null,
      "metadata": {
        "id": "8XWZdXXFxUBb"
      },
      "outputs": [],
      "source": [
        "productos = [\"manzanas\", \"bananas\", \"cerezas\", \"duraznos\", \"peras\"]"
      ]
    },
    {
      "cell_type": "markdown",
      "metadata": {
        "id": "nvfbOYiwxV0u"
      },
      "source": [
        "Aquí, productos es un arreglo (en Python, lo llamamos \"lista\") que contiene varias cadenas.\n",
        "\n",
        "*Nota:*\n",
        "*Los clásicos arrays descritos en lenguajes como C, Java, entre otros no existen en Python como tal. Una forma elegante de superar esta limitación es utilizar las llamadas listas in Python, que tienen una función similar. A diferencia de los contenedores de Java, las listas de Python pueden contener diferentes tipos de valores.*"
      ]
    },
    {
      "cell_type": "markdown",
      "metadata": {
        "id": "-cK4hNarzx0W"
      },
      "source": [
        "# Acceder a un elemento específico"
      ]
    },
    {
      "cell_type": "markdown",
      "metadata": {
        "id": "uHPO_v3fzzrt"
      },
      "source": [
        "Para acceder a los elementos de un arreglo, usamos su índice, que es la posición del elemento en el arreglo. Recuerda que en Python, los índices comienzan en 0."
      ]
    },
    {
      "cell_type": "code",
      "execution_count": null,
      "metadata": {
        "id": "9VevZVqPz4w9"
      },
      "outputs": [],
      "source": [
        "primer_producto = productos[0]\n",
        "print(primer_producto)\n"
      ]
    },
    {
      "cell_type": "markdown",
      "metadata": {
        "id": "osYfhmw7z52s"
      },
      "source": [
        "# Añadir elementos a un array en Python"
      ]
    },
    {
      "cell_type": "markdown",
      "metadata": {
        "id": "GNZE2IMez9NA"
      },
      "source": [
        "En Python, puedes añadir elementos a una lista usando el método append(). Este método añade el elemento al final de la lista."
      ]
    },
    {
      "cell_type": "code",
      "execution_count": null,
      "metadata": {
        "id": "SaW_mkUuz_-u"
      },
      "outputs": [],
      "source": [
        "productos.append(\"kiwis\")\n",
        "print(productos)"
      ]
    },
    {
      "cell_type": "markdown",
      "metadata": {
        "id": "DKbrIptb0BzR"
      },
      "source": [
        "# Eliminar elementos del array con pop ( ) o remove ( )"
      ]
    },
    {
      "cell_type": "markdown",
      "metadata": {
        "id": "35tzlfOe0Io4"
      },
      "source": [
        "Para eliminar elementos de una lista, puedes usar el método pop() o remove(). pop() elimina el elemento en la posición especificada, mientras que remove() elimina el primer elemento con el valor especificado."
      ]
    },
    {
      "cell_type": "code",
      "execution_count": null,
      "metadata": {
        "id": "U-f-3-hT0MMn"
      },
      "outputs": [],
      "source": [
        "productos.pop(1)  # Elimina el elemento en el índice 1\n",
        "productos.remove(\"cerezas\")  # Elimina la primera aparición de \"cerezas\"\n",
        "print(productos)"
      ]
    },
    {
      "cell_type": "markdown",
      "metadata": {
        "id": "rtbKFNpR0RnE"
      },
      "source": [
        "# Lista de diferentes métodos para arrays en Python"
      ]
    },
    {
      "cell_type": "markdown",
      "metadata": {
        "id": "sS7prWFX0VLQ"
      },
      "source": [
        "Python ofrece muchos métodos útiles para trabajar con listas. Aquí hay una tabla con algunos de los más comunes:"
      ]
    },
    {
      "cell_type": "markdown",
      "metadata": {
        "id": "ssz5zud50WJw"
      },
      "source": [
        "|Método|Descripción|\n",
        "|---|---|\n",
        "|`append()`|Añade un elemento al final de la lista.|\n",
        "|`clear()`|Este método elimina todos los elementos de la lista.|\n",
        "|`copy()`|`copy()` produce una copia de toda la lista.|\n",
        "|`count()`|Este método da como resultado el número exacto de elementos con un valor determinado.|\n",
        "|`extend()`|`extend()` añade todos los elementos de una lista al final de una lista en Python.|\n",
        "|`index()`|Muestra el número de índice del primer elemento con un valor determinado.|\n",
        "|`insert()`|Añade un elemento en una posición determinada.|\n",
        "|`len()`|Con `len()` se determina la longitud de un array en Python.|\n",
        "|`pop()`|Con `pop()` se elimina un elemento en una posición determinada.|\n",
        "|`remove()`|`remove()` elimina el primer elemento con un valor determinado.|\n",
        "|`reverse()`|Utiliza este método para invertir el orden de los elementos de tu lista en Python.|\n",
        "|`sort()`|Con `sort()` puedes ordenar tu lista.|\n"
      ]
    },
    {
      "cell_type": "markdown",
      "metadata": {
        "id": "wbINup_O9p5F"
      },
      "source": [
        "# Desafío 1: Gestión del stock de la verdulería\n",
        "\n",
        "¡Bienvenido al desafío de la verdulería! Has sido nombrado el nuevo gerente de una tienda de frutas, verduras y hortalizas. Tu tarea será manejar el stock de la tienda utilizando un arreglo. Aquí hay una serie de tareas que tendrás que completar.\n",
        "\n",
        "## Inventario inicial\n",
        "\n",
        "Aquí está el inventario inicial de la tienda:"
      ]
    },
    {
      "cell_type": "code",
      "execution_count": null,
      "metadata": {
        "id": "0ciI1vKd9yYd"
      },
      "outputs": [],
      "source": [
        "inventario = [\"manzanas\", \"bananas\", \"zanahorias\", \"espinacas\", \"brocoli\", \"cebolla\", \"kiwis\"]"
      ]
    },
    {
      "cell_type": "markdown",
      "source": [],
      "metadata": {
        "id": "mp8WlI7183S-"
      }
    },
    {
      "cell_type": "markdown",
      "metadata": {
        "id": "2PG6cpY7AbZN"
      },
      "source": [
        " **Pregunta 1: ¿Cuántos tipos de productos hay en el inventario inicial?**\n",
        "\n",
        " **Pregunta 2: ¿Qué producto está en la tercera posición del inventario?**"
      ]
    },
    {
      "cell_type": "code",
      "source": [
        "# Inventario de la verdulería\n",
        "inventario = [\"manzanas\", \"bananas\", \"zanahorias\", \"espinacas\", \"brocoli\", \"cebolla\", \"kiwis\"]\n",
        "\n",
        "# Cuento cuántos productos hay en el inventario\n",
        "cantidad_productos = len(inventario)\n",
        "\n",
        "# Muestro el resultado\n",
        "print(\"La cantidad de tipos de productos en el inventario es:\", cantidad_productos)"
      ],
      "metadata": {
        "colab": {
          "base_uri": "https://localhost:8080/"
        },
        "id": "VomaXAvHmAmd",
        "outputId": "dc6a4602-7702-4d9c-8612-0806c30de25b"
      },
      "execution_count": null,
      "outputs": [
        {
          "output_type": "stream",
          "name": "stdout",
          "text": [
            "La cantidad de tipos de productos en el inventario es: 7\n"
          ]
        }
      ]
    },
    {
      "cell_type": "markdown",
      "source": [
        "En esta primera parte del desafío, se nos pide determinar cuántos tipos de productos hay actualmente en el inventario de la verdulería. Para eso, usamos una lista en Python que contiene todos los productos disponibles: frutas, verduras y hortalizas.\n",
        "\n",
        "Para saber cuántos elementos hay en esa lista, usamos la función len(), que nos dice cuántos objetos hay dentro de una estructura como esta. Es una forma muy práctica de contar sin necesidad de hacerlo manualmente.\n",
        "\n",
        "El resultado nos indica que hay 7 tipos diferentes de productos en el inventario. Esto nos da una idea general de la variedad que ofrece la tienda y nos servirá para futuras tareas, como agregar, quitar o modificar productos del stock."
      ],
      "metadata": {
        "id": "SXRga8-kmJWq"
      }
    },
    {
      "cell_type": "code",
      "source": [
        "# Inventario de la verdulería\n",
        "inventario = [\"manzanas\", \"bananas\", \"zanahorias\", \"espinacas\", \"brocoli\", \"cebolla\", \"kiwis\"]\n",
        "\n",
        "# Acceder al producto en la tercera posición (empieza desde 0)\n",
        "producto_posicion = inventario[2]\n",
        "\n",
        "# Mostrar el resultado\n",
        "print(\"El producto que está en la tercera posición del inventario es:\", producto_posicion)\n"
      ],
      "metadata": {
        "colab": {
          "base_uri": "https://localhost:8080/"
        },
        "id": "CbajgdOzmcAK",
        "outputId": "6d0e506d-ddc2-439f-dbe3-105d04d9feb1"
      },
      "execution_count": null,
      "outputs": [
        {
          "output_type": "stream",
          "name": "stdout",
          "text": [
            "El producto que está en la tercera posición del inventario es: zanahorias\n"
          ]
        }
      ]
    },
    {
      "cell_type": "markdown",
      "source": [
        "En esta pregunta trabajamos con el concepto de índices en listas, una idea fundamental en programación. Aunque en la vida diaria decimos que algo está “en la tercera posición”, en Python las posiciones (índices) comienzan desde 0.\n",
        "\n",
        "Por lo tanto, para acceder al tercer elemento debemos usar el índice 2: inventario[2]. Esto nos lleva directamente al producto que se encuentra en esa ubicación dentro de la lista.\n",
        "\n",
        "En este caso, el producto que aparece en la tercera posición es \"zanahorias\". Conocer cómo funcionan los índices nos permitirá más adelante modificar, eliminar o reemplazar elementos de manera precisa en cualquier arreglo."
      ],
      "metadata": {
        "id": "3mOzc3iZmrSI"
      }
    },
    {
      "cell_type": "markdown",
      "metadata": {
        "id": "JT8fGJI3ARwG"
      },
      "source": [
        "## Gestión del inventario\n",
        "Un cliente viene y compra todas las bananas.\n",
        "\n",
        "**Pregunta 3: ¿Cómo actualizarías el inventario después de la venta?**\n",
        "\n",
        "Ahora recibes un envío de nuevos productos: \"frutillas\", \"apio\" y \"papas\".\n",
        "\n",
        "**Pregunta 4: ¿Cómo añadirías estos productos al inventario?**\n",
        "\n",
        "**Pregunta 5: ¿Cómo verificas si las \"papas\" están ahora en el inventario?**\n",
        "\n",
        "Un agricultor viene con una rara fruta llamada \"dragonfruit\", pero sólo tienes espacio para 7 productos en tu tienda.\n",
        "\n",
        "**Pregunta 6: ¿Cómo decidirías qué producto sacar para hacer espacio para el \"dragonfruit\"?**\n"
      ]
    },
    {
      "cell_type": "markdown",
      "metadata": {
        "id": "tJUXxW1D94Qb"
      },
      "source": [
        "## Ordenando el inventario\n",
        "Decides que sería más fácil gestionar el inventario si estuviera ordenado alfabéticamente.\n",
        "\n",
        "**Pregunta 7: ¿Cómo ordenarías el inventario?**\n",
        "\n",
        "Un nuevo empleado viene y necesita una copia del inventario para poder reponer los estantes.\n",
        "\n",
        "**Pregunta 8: ¿Cómo proporcionarías una copia del inventario al nuevo empleado, asegurándote de que si el empleado hace cambios en su copia, el inventario original no se vea afectado?**\n",
        "\n",
        "Esperamos que disfrutes de este desafío y que te ayude a entender mejor cómo trabajar con arreglos en Python. ¡Buena suerte, gerente de la tienda!"
      ]
    },
    {
      "cell_type": "markdown",
      "metadata": {
        "id": "LnNpfmnRlmVX"
      },
      "source": [
        "# Desafío 2: Ordenar el inventario de libros\n",
        "\n",
        "Como encargado de la biblioteca, necesitas organizar los libros de acuerdo con sus códigos de identificación en orden decreciente, sin modificar la lista original. Se recomienda usar la función sorted(). ¿Por qué es importante no modificar la lista original? ¿Por qué no puedo usar el método sort sobre la lista original?\n",
        "\n",
        "# Desafío 3: Caracteres ASCII\n",
        "Eres un desarrollador creando una herramienta educativa que muestra los caracteres ASCII correspondientes a una lista de números. Se recomienda usar la función chr() para convertir los números en caracteres.\n",
        "\n",
        "# Desafío 4: Control de notas de estudiantes\n",
        "Como profesor, necesitas manejar las notas de tus estudiantes. Permite ingresar todas las notas de los estudiantes y realiza varias operaciones con esos datos.\n",
        "\n",
        "**Pregunta 1: Calcula el promedio de las notas de la clase. ¿Cómo lo harías?**\n",
        "\n",
        "**Pregunta 2: Encuentra la nota más baja y la más alta. ¿Cómo lo harías?**\n",
        "\n",
        "**Pregunta 3: Identifica la nota que más se repite. ¿Cómo lo harías?**\n",
        "\n",
        "_Nota:_ La función Counter es útil porque simplifica el conteo de elementos en una lista, permitiendo identificar rápidamente la frecuencia de cada nota.\n",
        "\n",
        "**Pregunta 4 (Plus): Realiza un gráfico de barras con las notas. ¿Cómo lo harías?**\n",
        "\n",
        "_Nota:_ La biblioteca matplotlib.pyplot es útil porque proporciona funciones fáciles de usar para crear visualizaciones de datos, como gráficos de barras, que pueden ayudar a visualizar la distribución de las notas de manera clara y comprensible.\n"
      ]
    },
    {
      "cell_type": "markdown",
      "source": [
        "Desafío 2\n",
        "\n",
        "Cuando trabajamos con listas en Python, a veces necesitamos ordenarlas sin alterar los datos originales. Esto ocurre, por ejemplo, cuando queremos mostrar los libros de una biblioteca en orden descendente según su código, pero mantener intacto el inventario tal como fue cargado. En esos casos conviene usar la función sorted(), que crea una nueva lista ordenada sin modificar la existente.\n",
        "\n",
        "La diferencia es importante. Si usamos sort(), el orden de la lista original cambia porque el método actúa directamente sobre ella. En cambio, con sorted(), obtenemos una copia ordenada que podemos mostrar, guardar o analizar sin riesgo de perder la estructura inicial.\n",
        "\n",
        "En términos prácticos, sorted() nos da más control y seguridad sobre los datos. Nos permite trabajar de forma más flexible, comparando versiones o guardando diferentes vistas del mismo conjunto. En este tipo de problemas, mantener la lista original sin cambios es una buena práctica: evita errores y refleja una forma de programar más limpia y previsible."
      ],
      "metadata": {
        "id": "E45QILPGGDqj"
      }
    },
    {
      "cell_type": "code",
      "source": [
        "libros = [102, 56, 89, 150, 43]\n",
        "\n",
        "# Ordenamos sin modificar la lista original\n",
        "ordenados = sorted(libros, reverse=True)\n",
        "\n",
        "print(\"Lista original:\", libros)\n",
        "print(\"Lista ordenada (descendente):\", ordenados)\n"
      ],
      "metadata": {
        "id": "lOl_9GYWGGDT"
      },
      "execution_count": null,
      "outputs": []
    },
    {
      "cell_type": "markdown",
      "source": [
        "Desafío 3"
      ],
      "metadata": {
        "id": "FSCJZNXeFw9E"
      }
    },
    {
      "cell_type": "code",
      "source": [
        "# El programa pide una lista de números y muestra su carácter ASCII\n",
        "\n",
        "numeros = []\n",
        "\n",
        "while True:\n",
        "    dato = input(\"Ingrese un número (o 'fin' para terminar): \")\n",
        "    if dato.lower() == \"fin\":\n",
        "        break\n",
        "    numeros.append(int(dato))\n",
        "\n",
        "print(\"\\nConversión a caracteres ASCII:\")\n",
        "\n",
        "for n in numeros:\n",
        "    print(n, \"→\", chr(n))\n"
      ],
      "metadata": {
        "colab": {
          "base_uri": "https://localhost:8080/"
        },
        "id": "_xwtT5Z7Fg8m",
        "outputId": "9662ea02-b739-446f-fae9-c0127f891ab1"
      },
      "execution_count": null,
      "outputs": [
        {
          "output_type": "stream",
          "name": "stdout",
          "text": [
            "Ingrese un número (o 'fin' para terminar): 8\n",
            "Ingrese un número (o 'fin' para terminar): 7\n",
            "Ingrese un número (o 'fin' para terminar): 6\n",
            "Ingrese un número (o 'fin' para terminar): 5\n",
            "Ingrese un número (o 'fin' para terminar): 6\n",
            "Ingrese un número (o 'fin' para terminar): 7\n",
            "Ingrese un número (o 'fin' para terminar): 8\n",
            "Ingrese un número (o 'fin' para terminar): fin\n",
            "\n",
            "Conversión a caracteres ASCII:\n",
            "8 → \b\n",
            "7 → \u0007\n",
            "6 → \u0006\n",
            "5 → \u0005\n",
            "6 → \u0006\n",
            "7 → \u0007\n",
            "8 → \b\n"
          ]
        }
      ]
    },
    {
      "cell_type": "markdown",
      "source": [
        "Desafío 4\n"
      ],
      "metadata": {
        "id": "t5KbPNpUFiG6"
      }
    },
    {
      "cell_type": "code",
      "source": [
        "# Importamos Counter y matplotlib para las tareas extra\n",
        "from collections import Counter\n",
        "import matplotlib.pyplot as plt\n",
        "\n",
        "# Ingreso de notas\n",
        "notas = []\n",
        "while True:\n",
        "    dato = input(\"Ingrese una nota (o 'fin' para terminar): \")\n",
        "    if dato.lower() == \"fin\":\n",
        "        break\n",
        "    notas.append(float(dato))\n",
        "\n",
        "# -----------------------------\n",
        "# Pregunta 1: Promedio\n",
        "promedio = sum(notas) / len(notas)\n",
        "print(\"Promedio de la clase:\", promedio)\n",
        "\n",
        "# Pregunta 2: Nota más baja y más alta\n",
        "print(\"Nota más baja:\", min(notas))\n",
        "print(\"Nota más alta:\", max(notas))\n",
        "\n",
        "# Pregunta 3: Nota que más se repite\n",
        "contador = Counter(notas)\n",
        "nota_mas_repetida = contador.most_common(1)[0][0]\n",
        "print(\"Nota que más se repite:\", nota_mas_repetida)\n",
        "\n",
        "# Pregunta 4 (Plus): Gráfico de barras\n",
        "plt.bar(contador.keys(), contador.values(), color='skyblue')\n",
        "plt.xlabel(\"Notas\")\n",
        "plt.ylabel(\"Frecuencia\")\n",
        "plt.title(\"Distribución de notas del grupo\")\n",
        "plt.show()\n"
      ],
      "metadata": {
        "colab": {
          "base_uri": "https://localhost:8080/",
          "height": 715
        },
        "id": "kEUs1GiHFLzf",
        "outputId": "99e5093b-a91e-42bd-8b71-0302813c5405"
      },
      "execution_count": null,
      "outputs": [
        {
          "output_type": "stream",
          "name": "stdout",
          "text": [
            "Ingrese una nota (o 'fin' para terminar): 6\n",
            "Ingrese una nota (o 'fin' para terminar): 5\n",
            "Ingrese una nota (o 'fin' para terminar): 6\n",
            "Ingrese una nota (o 'fin' para terminar): 8\n",
            "Ingrese una nota (o 'fin' para terminar): 9\n",
            "Ingrese una nota (o 'fin' para terminar): 4\n",
            "Ingrese una nota (o 'fin' para terminar): 3\n",
            "Ingrese una nota (o 'fin' para terminar): 5\n",
            "Ingrese una nota (o 'fin' para terminar): 9\n",
            "Ingrese una nota (o 'fin' para terminar): fin\n",
            "Promedio de la clase: 6.111111111111111\n",
            "Nota más baja: 3.0\n",
            "Nota más alta: 9.0\n",
            "Nota que más se repite: 6.0\n"
          ]
        },
        {
          "output_type": "display_data",
          "data": {
            "text/plain": [
              "<Figure size 640x480 with 1 Axes>"
            ],
            "image/png": "[encoded data removed]"
          },
          "metadata": {}
        }
      ]
    },
    {
      "cell_type": "markdown",
      "source": [],
      "metadata": {
        "id": "CG0k9sBrFK0V"
      }
    },
    {
      "cell_type": "code",
      "source": [],
      "metadata": {
        "id": "lgepIgFPFJsU"
      },
      "execution_count": null,
      "outputs": []
    },
    {
      "cell_type": "code",
      "source": [
        "# Lista original de códigos de libros\n",
        "co_libros = [1032, 5012, 2891, 4003, 1875, 6220, 3900]\n",
        "\n",
        "# Crear una nueva lista ordenada en orden decreciente (sin modificar la original)\n",
        "co_ordenados = sorted(co_libros, reverse=True)\n",
        "\n",
        "# Mostrar ambas listas\n",
        "print(\"Códigos originales de los libros:\", co_libros)\n",
        "print(\"Códigos ordenados, en forma decreciente, de los libros:\", co_ordenados)\n"
      ],
      "metadata": {
        "colab": {
          "base_uri": "https://localhost:8080/"
        },
        "id": "0quSdhp2ocTn",
        "outputId": "73e68cb9-62af-43ee-fd83-12c7639fc159"
      },
      "execution_count": null,
      "outputs": [
        {
          "output_type": "stream",
          "name": "stdout",
          "text": [
            "Códigos originales de los libros: [1032, 5012, 2891, 4003, 1875, 6220, 3900]\n",
            "Códigos ordenados, en forma descendiente, de los libros: [6220, 5012, 4003, 3900, 2891, 1875, 1032]\n"
          ]
        }
      ]
    },
    {
      "cell_type": "markdown",
      "source": [
        "En este desafío se nos pide una tarea muy específica y útil en cualquier biblioteca: organizar los libros según sus códigos, del mayor al menor, con la condición importante de no alterar la lista original, ya que puede estar vinculada a otros registros, como fechas de ingreso, autores o ubicaciones físicas. Mantener esa información intacta nos permite siempre volver a la fuente o cotejar con otros datos sin perder consistencia.\n",
        "\n",
        "Por eso usamos la función sorted(), que genera una nueva lista ordenada y deja la original tal como estaba. Esta función además nos permite ordenar en orden decreciente si usamos el parámetro reverse=True. En cambio, si hubiéramos usado el método .sort(), la lista original habría sido modificada directamente, lo cual rompería la consigna y podría causar errores si esa lista se usa en otras partes del sistema.\n",
        "\n",
        "Esta forma de trabajar es muy valiosa porque nos enseña la importancia de no modificar datos originales sin necesidad, algo fundamental en programación, especialmente en contextos donde los datos se comparten o se usan como referencia. Saber cuándo copiar y cuándo modificar directamente es parte del aprendizaje sobre estructuras de datos y buenas prácticas."
      ],
      "metadata": {
        "id": "1aZwuWNTpAte"
      }
    },
    {
      "cell_type": "code",
      "source": [
        "# Lista de notas\n",
        "notas = [8, 6, 9, 4, 7, 10, 5, 6, 3, 8]\n",
        "\n",
        "# Calculo promedio\n",
        "suma = sum(notas)\n",
        "cantidad = len(notas)\n",
        "promedio = suma / cantidad\n",
        "\n",
        "# Muestro promedio\n",
        "print(\"📊 El promedio de la clase es:\", promedio)\n",
        "\n",
        "# Calculo nota más baja y más alta\n",
        "nota_menor = min(notas)\n",
        "nota_mayor = max(notas)\n",
        "\n",
        "# Muestro resultados\n",
        "print(\"La nota más baja es:\", nota_menor)\n",
        "print(\"La nota más alta es:\", nota_mayor)\n"
      ],
      "metadata": {
        "colab": {
          "base_uri": "https://localhost:8080/"
        },
        "id": "E7u6iVy-nTAN",
        "outputId": "d2717c3d-f770-453a-8d8f-fdb6a6904a0d"
      },
      "execution_count": null,
      "outputs": [
        {
          "output_type": "stream",
          "name": "stdout",
          "text": [
            "📊 El promedio de la clase es: 6.6\n",
            "La nota más baja es: 3\n",
            "La nota más alta es: 10\n"
          ]
        }
      ]
    },
    {
      "cell_type": "markdown",
      "source": [
        "En este desafío trabajamos con una lista de calificaciones de estudiantes. El objetivo era calcular el promedio general y también encontrar cuál fue la nota más baja y cuál la más alta. Esto nos permite tener una visión rápida del rendimiento del grupo.\n",
        "\n",
        "Usamos funciones que ya conocíamos, como sum() para sumar todos los elementos y len() para saber cuántos había. Dividir ambos valores nos dio el promedio. También aprendimos a usar min() y max(), que son muy útiles para detectar extremos en una lista.\n",
        "\n",
        "Una pequeña dificultad fue recordar que todos los elementos debían estar en la misma lista y que sum() no sirve si alguno no es un número. Por eso revisamos bien los datos antes de ejecutar. El resultado fue claro y cumplió con lo que pedía el enunciado."
      ],
      "metadata": {
        "id": "eGzOyCpjnmYG"
      }
    },
    {
      "cell_type": "markdown",
      "metadata": {
        "id": "p6mMwatHlmVX"
      },
      "source": [
        "# Problema 1: Análisis de ventas mensuales usando el módulo array\n",
        "Eres el gerente de una tienda de ropa y necesitas analizar las ventas mensuales de un producto específico durante el último año. Usarás el módulo array para almacenar y manipular los datos de ventas de cada mes. El objetivo es calcular la venta total anual, el promedio de ventas mensuales, y encontrar los meses con la venta más baja y más alta.\n",
        "\n",
        "## Datos Iniciales\n",
        "Las ventas mensuales del producto específico son las siguientes (en unidades):"
      ]
    },
    {
      "cell_type": "code",
      "execution_count": null,
      "metadata": {
        "id": "inEbweujlmVY"
      },
      "outputs": [],
      "source": [
        "import array\n",
        "\n",
        "ventas_mensuales = array.array('i', [120, 135, 150, 145, 160, 155, 130, 140, 125, 170, 160, 180])"
      ]
    },
    {
      "cell_type": "markdown",
      "metadata": {
        "id": "xJi08XxxlmVY"
      },
      "source": [
        "## Tareas:\n",
        "**Calcula la venta total anual.**"
      ]
    },
    {
      "cell_type": "code",
      "execution_count": null,
      "metadata": {
        "id": "Bm9-MP1LlmVY"
      },
      "outputs": [],
      "source": [
        "total_anual = sum(ventas_mensuales)\n",
        "print(f\"Venta total anual: {total_anual} unidades\")"
      ]
    },
    {
      "cell_type": "markdown",
      "metadata": {
        "id": "oIwOSSdhlmVY"
      },
      "source": [
        "**Calcula el promedio de ventas mensuales.**"
      ]
    },
    {
      "cell_type": "code",
      "execution_count": null,
      "metadata": {
        "id": "8JN4u265lmVY"
      },
      "outputs": [],
      "source": [
        "promedio_mensual = total_anual / len(ventas_mensuales)\n",
        "print(f\"Promedio de ventas mensuales: {promedio_mensual:.2f} unidades\")"
      ]
    },
    {
      "cell_type": "markdown",
      "metadata": {
        "id": "cbix61-BlmVY"
      },
      "source": [
        "**Encuentra el mes con la venta más baja y más alta.**"
      ]
    },
    {
      "cell_type": "code",
      "execution_count": null,
      "metadata": {
        "id": "GMFmhiTXlmVY"
      },
      "outputs": [],
      "source": [
        "mes_baja = ventas_mensuales.index(min(ventas_mensuales)) + 1\n",
        "mes_alta = ventas_mensuales.index(max(ventas_mensuales)) + 1\n",
        "print(f\"Mes con la venta más baja: {mes_baja} (Venta: {min(ventas_mensuales)} unidades)\")\n",
        "print(f\"Mes con la venta más alta: {mes_alta} (Venta: {max(ventas_mensuales)} unidades)\")"
      ]
    },
    {
      "cell_type": "markdown",
      "metadata": {
        "id": "7HOLwE4ClmVZ"
      },
      "source": [
        "# Problema 2: Análisis de temperaturas diarias usando NumPy\n",
        "Como meteorólogo, necesitas analizar las temperaturas diarias registradas en tu ciudad durante el último mes. Usarás la librería NumPy para trabajar eficientemente con los datos de temperaturas. El objetivo es calcular la temperatura media, la temperatura máxima y mínima, y visualizar las temperaturas en un gráfico de línea.\n",
        "\n",
        "## Datos Iniciales\n",
        "Las temperaturas diarias registradas en el último mes (30 días) son las siguientes:"
      ]
    },
    {
      "cell_type": "code",
      "execution_count": null,
      "metadata": {
        "id": "TlbGyFx-lmVZ"
      },
      "outputs": [],
      "source": [
        "import numpy as np\n",
        "\n",
        "temperaturas_diarias = np.array([22.5, 21.3, 23.1, 25.0, 24.5, 22.1, 23.7, 24.8, 25.3, 26.1,\n",
        "                                 23.4, 24.0, 22.9, 21.5, 23.0, 24.3, 25.0, 24.7, 23.1, 22.4,\n",
        "                                 23.5, 24.1, 25.4, 26.0, 24.8, 23.9, 22.7, 23.3, 24.5, 25.1])"
      ]
    },
    {
      "cell_type": "markdown",
      "metadata": {
        "id": "2dgJm6pClmVZ"
      },
      "source": [
        "## Tareas:\n",
        "**Calcula la temperatura media del mes.**"
      ]
    }
  ],
  "metadata": {
    "colab": {
      "provenance": [],
      "toc_visible": true,
      "include_colab_link": true
    },
    "kernelspec": {
      "display_name": "Python 3",
      "name": "python3"
    },
    "language_info": {
      "codemirror_mode": {
        "name": "ipython",
        "version": 3
      },
      "file_extension": ".py",
      "mimetype": "text/x-python",
      "name": "python",
      "nbconvert_exporter": "python",
      "pygments_lexer": "ipython3",
      "version": "3.11.1"
    }
  },
  "nbformat": 4,
  "nbformat_minor": 0
}